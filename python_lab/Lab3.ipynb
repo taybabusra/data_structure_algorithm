{
 "cells": [
  {
   "cell_type": "markdown",
   "id": "c385175b-f913-4d4e-ab43-9427f57c60dc",
   "metadata": {},
   "source": [
    "## lab1"
   ]
  },
  {
   "cell_type": "code",
   "execution_count": 20,
   "id": "81febc97-ffe7-425c-a6d4-01df9c225195",
   "metadata": {},
   "outputs": [
    {
     "name": "stdin",
     "output_type": "stream",
     "text": [
      "Enter a number:  50\n",
      "Enter a number:  51\n",
      "Enter a number:  bd\n"
     ]
    },
    {
     "name": "stdout",
     "output_type": "stream",
     "text": [
      "Invalid input\n"
     ]
    },
    {
     "name": "stdin",
     "output_type": "stream",
     "text": [
      "Enter a number:  done\n"
     ]
    },
    {
     "name": "stdout",
     "output_type": "stream",
     "text": [
      "Total: 101.0, Count: 2, Average: 50.5\n"
     ]
    }
   ],
   "source": [
    "total = 0\n",
    "count = 0\n",
    "\n",
    "while True:\n",
    "    user_input = input(\"Enter a number: \")\n",
    "    if user_input == 'done':\n",
    "        break\n",
    "    try:\n",
    "        number = float(user_input)\n",
    "        total += number\n",
    "        count += 1\n",
    "    except ValueError:\n",
    "        print(\"Invalid input\")\n",
    "\n",
    "if count == 0:\n",
    "    print(\"No numbers entered.\")\n",
    "else:\n",
    "    average = total / count\n",
    "    print(f\"Total: {total}, Count: {count}, Average: {average}\")"
   ]
  },
  {
   "cell_type": "markdown",
   "id": "7b3a7240-ee0f-4eff-8be9-931810de0791",
   "metadata": {},
   "source": [
    "## lab2"
   ]
  },
  {
   "cell_type": "code",
   "execution_count": 14,
   "id": "806be592-1187-4155-bc4f-71b21b5a7b89",
   "metadata": {},
   "outputs": [
    {
     "name": "stdin",
     "output_type": "stream",
     "text": [
      "Enter a score  0.8\n"
     ]
    },
    {
     "name": "stdout",
     "output_type": "stream",
     "text": [
      "Grade: B\n"
     ]
    }
   ],
   "source": [
    "def get_grade(score):\n",
    "    if score >= 0.9:\n",
    "        return 'A'\n",
    "    elif score >= 0.8:\n",
    "        return 'B'\n",
    "    elif score >= 0.7:\n",
    "        return 'C'\n",
    "    elif score >= 0.6:\n",
    "        return 'D'\n",
    "    else:\n",
    "        return 'F'\n",
    "\n",
    "try:\n",
    "    score = float(input(\"Enter a score \"))\n",
    "    if 0.0 <= score <= 1.0:\n",
    "        grade = get_grade(score)\n",
    "        print(f\"Grade: {grade}\")\n",
    "    else:\n",
    "        print(\"Error: Score is out of range\")\n",
    "except ValueError:\n",
    "    print(\"bad score\")"
   ]
  },
  {
   "cell_type": "markdown",
   "id": "902dec7c-c470-434b-a761-457601ab75e5",
   "metadata": {},
   "source": [
    "## lab3"
   ]
  },
  {
   "cell_type": "code",
   "execution_count": 8,
   "id": "f8f7f049-1e43-48de-8a16-64f7f746bfc2",
   "metadata": {},
   "outputs": [
    {
     "name": "stdout",
     "output_type": "stream",
     "text": [
      "[1505, 1540, 1575, 1610, 1645, 1680, 1715, 1750, 1785, 1820, 1855, 1890, 1925, 1960, 1995, 2030, 2065, 2100, 2135, 2170, 2205, 2240, 2275, 2310, 2345, 2380, 2415, 2450, 2485, 2520, 2555, 2590, 2625, 2660, 2695]\n"
     ]
    }
   ],
   "source": [
    "def find_numbers():\n",
    "    result = []\n",
    "    for num in range(1500, 2701):\n",
    "        if num % 7 == 0 and num % 5 == 0:\n",
    "            result.append(num)\n",
    "    return result\n",
    "\n",
    "# Get the numbers divisible by 7 and multiple of 5 in the specified range\n",
    "numbers = find_numbers()\n",
    "print(numbers)"
   ]
  },
  {
   "cell_type": "code",
   "execution_count": 10,
   "id": "257a1563-6474-4cd2-b698-1e0fac070fb8",
   "metadata": {},
   "outputs": [
    {
     "name": "stdout",
     "output_type": "stream",
     "text": [
      "1505,1540,1575,1610,1645,1680,1715,1750,1785,1820,1855,1890,1925,1960,1995,2030,2065,2100,2135,2170,2205,2240,2275,2310,2345,2380,2415,2450,2485,2520,2555,2590,2625,2660,2695\n"
     ]
    }
   ],
   "source": [
    "# Create an empty list to store numbers that meet the given conditions\n",
    "nl = []\n",
    "\n",
    "# Iterate through numbers from 1500 to 2700 (inclusive)\n",
    "for x in range(1500, 2701):\n",
    "    # Check if the number is divisible by 7 and 5 without any remainder\n",
    "    if (x % 7 == 0) and (x % 5 == 0):\n",
    "        # If the conditions are met, convert the number to a string and append it to the list\n",
    "        nl.append(str(x))\n",
    "\n",
    "# Join the numbers in the list with a comma and print the result\n",
    "print(','.join(nl))"
   ]
  },
  {
   "cell_type": "markdown",
   "id": "6525f2ba-71e3-44e5-aebe-176156917c7b",
   "metadata": {},
   "source": [
    "## lab4"
   ]
  },
  {
   "cell_type": "code",
   "execution_count": 13,
   "id": "96af4866-df51-408c-a55f-a5b7d84146c6",
   "metadata": {},
   "outputs": [
    {
     "name": "stdout",
     "output_type": "stream",
     "text": [
      "0\n",
      "1\n",
      "2\n",
      "4\n",
      "5\n"
     ]
    }
   ],
   "source": [
    "for i in range(7):\n",
    "    if i == 3 or i == 6:\n",
    "        continue\n",
    "    print(i)"
   ]
  },
  {
   "cell_type": "markdown",
   "id": "65d1f056-78b3-4c86-be56-05394f0121b1",
   "metadata": {},
   "source": [
    "## lab5"
   ]
  },
  {
   "cell_type": "code",
   "execution_count": 17,
   "id": "a118415b-4e53-4e0a-81fc-b4940b0726c8",
   "metadata": {},
   "outputs": [
    {
     "name": "stdin",
     "output_type": "stream",
     "text": [
      "enter the limit: 50\n"
     ]
    },
    {
     "name": "stdout",
     "output_type": "stream",
     "text": [
      "[0, 1, 1, 2, 3, 5, 8, 13, 21, 34]\n"
     ]
    }
   ],
   "source": [
    "def fibonacci_series(limit):\n",
    "    series = []\n",
    "    a, b = 0, 1\n",
    "    while a <= limit:\n",
    "        series.append(a)\n",
    "        a, b = b, a + b\n",
    "    return series\n",
    "limit = int(input(\"enter the limit:\"))\n",
    "fib_series = fibonacci_series(limit)\n",
    "print(fib_series)"
   ]
  },
  {
   "cell_type": "code",
   "execution_count": 18,
   "id": "919c72c7-3032-41f1-8d4d-f89ff00d4785",
   "metadata": {},
   "outputs": [
    {
     "name": "stdout",
     "output_type": "stream",
     "text": [
      "[0, 1, 1, 2, 3, 5, 8, 13, 21, 34, 55, 89, 144, 233, 377, 610, 987, 1597, 2584, 4181, 6765, 10946, 17711, 28657, 46368, 75025, 121393, 196418, 317811, 514229, 832040, 1346269, 2178309, 3524578, 5702887, 9227465, 14930352, 24157817, 39088169, 63245986, 102334155, 165580141, 267914296, 433494437, 701408733, 1134903170, 1836311903, 2971215073, 4807526976, 7778742049]\n"
     ]
    }
   ],
   "source": [
    "def fibonacci_series(n):\n",
    "    series = []\n",
    "    a, b = 0, 1\n",
    "    for _ in range(n):\n",
    "        series.append(a)\n",
    "        a, b = b, a + b\n",
    "    return series\n",
    "\n",
    "# Generate the first 50 Fibonacci numbers\n",
    "fib_series = fibonacci_series(50)\n",
    "print(fib_series)"
   ]
  },
  {
   "cell_type": "markdown",
   "id": "86861b40-03f2-41f7-b8e2-9e9ab74d0840",
   "metadata": {},
   "source": [
    "## lab6"
   ]
  },
  {
   "cell_type": "code",
   "execution_count": 6,
   "id": "6adcf03a-e489-4c4c-8540-1507dafb8137",
   "metadata": {},
   "outputs": [
    {
     "name": "stdin",
     "output_type": "stream",
     "text": [
      "enter the start number: 2\n",
      "enter the end number: 50\n"
     ]
    },
    {
     "name": "stdout",
     "output_type": "stream",
     "text": [
      "[2, 3, 5, 7, 11, 13, 17, 19, 23, 29, 31, 37, 41, 43, 47]\n"
     ]
    }
   ],
   "source": [
    "def is_prime(number):\n",
    "    if number <= 1:\n",
    "        return False\n",
    "    for i in range(2, int(number ** 0.5) + 1):\n",
    "        if number % i == 0:\n",
    "            return False\n",
    "    return True\n",
    "\n",
    "def prime_numbers_in_range(start, end):\n",
    "    primes = []\n",
    "    for num in range(start, end + 1):\n",
    "        if is_prime(num):\n",
    "            primes.append(num)\n",
    "    return primes\n",
    "\n",
    "#range\n",
    "start = int(input(\"enter the start number:\"))\n",
    "end = int(input(\"enter the end number:\"))\n",
    "\n",
    "#prime numbers in the specified range\n",
    "prime_numbers = prime_numbers_in_range(start, end)\n",
    "print(prime_numbers)"
   ]
  },
  {
   "cell_type": "markdown",
   "id": "5abe6fe4-38aa-49a9-a8e4-ee066079baba",
   "metadata": {},
   "source": [
    "## lab7"
   ]
  },
  {
   "cell_type": "code",
   "execution_count": 19,
   "id": "bd9ae0f4-8230-4bcc-a00f-0a7d78d092c1",
   "metadata": {},
   "outputs": [
    {
     "name": "stdin",
     "output_type": "stream",
     "text": [
      "Enter a number:  50\n"
     ]
    },
    {
     "name": "stdout",
     "output_type": "stream",
     "text": [
      "The sum of all numbers from 1 to 50 is: 1275\n"
     ]
    }
   ],
   "source": [
    "# Function to calculate the sum of numbers from 1 to n\n",
    "def calculate_sum(n):\n",
    "    total = 0\n",
    "    for i in range(1, n + 1):\n",
    "        total += i\n",
    "    return total\n",
    "try:\n",
    "    number = int(input(\"Enter a number: \"))\n",
    "    if number < 1:\n",
    "        print(\"positive integer greater than or equal to 1.\")\n",
    "    else:\n",
    "        sum_of_numbers = calculate_sum(number)\n",
    "        print(f\"The sum of all numbers from 1 to {number} is: {sum_of_numbers}\")\n",
    "except ValueError:\n",
    "    print(\"Invalid input.\")"
   ]
  },
  {
   "cell_type": "code",
   "execution_count": null,
   "id": "400be414-95f7-4477-b600-e5e925dab5f1",
   "metadata": {},
   "outputs": [],
   "source": []
  }
 ],
 "metadata": {
  "kernelspec": {
   "display_name": "Python 3 (ipykernel)",
   "language": "python",
   "name": "python3"
  },
  "language_info": {
   "codemirror_mode": {
    "name": "ipython",
    "version": 3
   },
   "file_extension": ".py",
   "mimetype": "text/x-python",
   "name": "python",
   "nbconvert_exporter": "python",
   "pygments_lexer": "ipython3",
   "version": "3.11.7"
  }
 },
 "nbformat": 4,
 "nbformat_minor": 5
}

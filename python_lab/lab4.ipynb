{
 "cells": [
  {
   "cell_type": "code",
   "execution_count": 1,
   "id": "3cf4eec5-fadb-49b6-8897-bd1994fe449a",
   "metadata": {},
   "outputs": [
    {
     "name": "stdout",
     "output_type": "stream",
     "text": [
      "0.8475\n"
     ]
    }
   ],
   "source": [
    "# Original string\n",
    "input_str = 'X-DSPAM-Confidence:0.8475'\n",
    "\n",
    "# Find the position of the colon character\n",
    "colon_pos = input_str.find(':')\n",
    "\n",
    "# Extract the portion of the string after the colon\n",
    "number_str = input_str[colon_pos + 1:]\n",
    "\n",
    "# Convert the extracted string to a floating point number\n",
    "confidence_value = float(number_str)\n",
    "\n",
    "# Print the result\n",
    "print(confidence_value)"
   ]
  },
  {
   "cell_type": "code",
   "execution_count": 3,
   "id": "86891c06-28b1-442e-a73e-6b9d7de5adc9",
   "metadata": {},
   "outputs": [
    {
     "name": "stdin",
     "output_type": "stream",
     "text": [
      "Enter a string:  w\n"
     ]
    },
    {
     "name": "stdout",
     "output_type": "stream",
     "text": [
      "Expected Result: Empty String\n"
     ]
    }
   ],
   "source": [
    "def chars(string):\n",
    "    if len(string) < 2:\n",
    "        return \"Empty String\"  # Return empty string if length is less than 2\n",
    "    else:\n",
    "        first_two = string[:2]\n",
    "        last_two = string[-2:]\n",
    "        return first_two + last_two\n",
    "\n",
    "sample_string = input(\"Enter a string: \")\n",
    "result = chars(sample_string)\n",
    "print(\"Expected Result:\", result)"
   ]
  },
  {
   "cell_type": "code",
   "execution_count": 5,
   "id": "a575da9f-31e7-442c-a39d-a3ef6b3610ee",
   "metadata": {},
   "outputs": [
    {
     "name": "stdin",
     "output_type": "stream",
     "text": [
      "Enter a string:  string\n"
     ]
    },
    {
     "name": "stdout",
     "output_type": "stream",
     "text": [
      "Result: stringly\n"
     ]
    }
   ],
   "source": [
    "def suffix(string):\n",
    "    if len(string) < 3:\n",
    "        return string\n",
    "    elif string.endswith('ing'):\n",
    "        return string + 'ly'\n",
    "    else:\n",
    "        return string + 'ing'\n",
    "\n",
    "# Example usage:\n",
    "sample_string = input(\"Enter a string: \")\n",
    "result = suffix(sample_string)\n",
    "print(\"Result:\", result)"
   ]
  },
  {
   "cell_type": "code",
   "execution_count": 6,
   "id": "4591a58a-7b66-4629-bd18-dfa25cfe020b",
   "metadata": {},
   "outputs": [
    {
     "name": "stdout",
     "output_type": "stream",
     "text": [
      "Expected Result 1: The lyrics is good!\n",
      "Expected Result 2: The lyrics is poor!\n"
     ]
    }
   ],
   "source": [
    "def replace_not_poor(input_string):\n",
    "    # Find the positions of 'not' and 'poor'\n",
    "    index_not = input_string.find('not')\n",
    "    index_poor = input_string.find('poor')\n",
    "\n",
    "    # Check if both substrings are found and 'not' comes before 'poor'\n",
    "    if index_not != -1 and index_poor != -1 and index_not < index_poor:\n",
    "        # Replace 'not...poor' substring with 'good'\n",
    "        return input_string[:index_not] + 'good' + input_string[index_poor + 4:]\n",
    "    else:\n",
    "        return input_string\n",
    "\n",
    "# Example usage:\n",
    "sample_string1 = 'The lyrics is not that poor!'\n",
    "sample_string2 = 'The lyrics is poor!'\n",
    "\n",
    "result1 = replace_not_poor(sample_string1)\n",
    "result2 = replace_not_poor(sample_string2)\n",
    "\n",
    "print(\"Expected Result 1:\", result1)\n",
    "print(\"Expected Result 2:\", result2)"
   ]
  },
  {
   "cell_type": "code",
   "execution_count": 8,
   "id": "11b3ea65-f855-4211-833c-51b72148b90f",
   "metadata": {
    "scrolled": true
   },
   "outputs": [
    {
     "name": "stdin",
     "output_type": "stream",
     "text": [
      "Enter a string:  The lyrics is poor!’\n"
     ]
    },
    {
     "name": "stdout",
     "output_type": "stream",
     "text": [
      "Expected Result: The lyrics is poor!’\n"
     ]
    }
   ],
   "source": [
    "def replace_not_poor(input_string):\n",
    "    # Find the positions of 'not' and 'poor'\n",
    "    index_not = input_string.find('not')\n",
    "    index_poor = input_string.find('poor')\n",
    "\n",
    "    # Check if both substrings are found and 'not' comes before 'poor'\n",
    "    if index_not != -1 and index_poor != -1 and index_not < index_poor:\n",
    "        # Replace 'not...poor' substring with 'good'\n",
    "        return input_string[:index_not] + 'good' + input_string[index_poor + 4:]\n",
    "    else:\n",
    "        return input_string\n",
    "\n",
    "# Example usage with input():\n",
    "sample_string = input(\"Enter a string: \")\n",
    "\n",
    "result = replace_not_poor(sample_string)\n",
    "print(\"Expected Result:\", result)"
   ]
  },
  {
   "cell_type": "code",
   "execution_count": 9,
   "id": "520c6445-4aa4-4c30-9a99-647347ae7893",
   "metadata": {},
   "outputs": [
    {
     "name": "stdin",
     "output_type": "stream",
     "text": [
      "Enter Hours:  45\n",
      "Enter Rate:  10\n"
     ]
    },
    {
     "name": "stdout",
     "output_type": "stream",
     "text": [
      "Pay: 475.0\n"
     ]
    }
   ],
   "source": [
    "def compute_pay(hours, rate):\n",
    "    if hours <= 40:\n",
    "        pay = hours * rate\n",
    "    else:\n",
    "        regular_pay = 40 * rate\n",
    "        overtime_hours = hours - 40\n",
    "        overtime_pay = overtime_hours * (rate * 1.5)\n",
    "        pay = regular_pay + overtime_pay\n",
    "    return pay\n",
    "\n",
    "# Example usage:\n",
    "try:\n",
    "    hours = float(input(\"Enter Hours: \"))\n",
    "    rate = float(input(\"Enter Rate: \"))\n",
    "    total_pay = compute_pay(hours, rate)\n",
    "    print(f\"Pay: {total_pay}\")\n",
    "except ValueError:\n",
    "    print(\"Error: Please enter numeric input for hours and rate.\")"
   ]
  },
  {
   "cell_type": "code",
   "execution_count": null,
   "id": "8113cbc8-c185-4de5-bda1-c7ba09a1b93f",
   "metadata": {},
   "outputs": [
    {
     "name": "stdin",
     "output_type": "stream",
     "text": [
      "Enter score:  0.6\n"
     ]
    },
    {
     "name": "stdout",
     "output_type": "stream",
     "text": [
      "D\n"
     ]
    },
    {
     "name": "stdin",
     "output_type": "stream",
     "text": [
      "Enter score:  dhhd\n"
     ]
    },
    {
     "name": "stdout",
     "output_type": "stream",
     "text": [
      "Bad score\n"
     ]
    }
   ],
   "source": [
    "def computegrade(score):\n",
    "    try:\n",
    "        score = float(score)\n",
    "        if score >= 0.9 and score <= 1.0:\n",
    "            return 'A'\n",
    "        elif score >= 0.8:\n",
    "            return 'B'\n",
    "        elif score >= 0.7:\n",
    "            return 'C'\n",
    "        elif score >= 0.6:\n",
    "            return 'D'\n",
    "        elif score >= 0 and score < 0.6:\n",
    "            return 'F'\n",
    "        else:\n",
    "            return 'Bad score'\n",
    "    except ValueError:\n",
    "        return 'Bad score'\n",
    "\n",
    "\n",
    "score = input(\"Enter score: \")\n",
    "grade = computegrade(score)\n",
    "print(grade)"
   ]
  },
  {
   "cell_type": "code",
   "execution_count": null,
   "id": "e5119494-fc0c-4355-b4dd-f8fa7004189d",
   "metadata": {},
   "outputs": [],
   "source": []
  }
 ],
 "metadata": {
  "kernelspec": {
   "display_name": "Python 3 (ipykernel)",
   "language": "python",
   "name": "python3"
  },
  "language_info": {
   "codemirror_mode": {
    "name": "ipython",
    "version": 3
   },
   "file_extension": ".py",
   "mimetype": "text/x-python",
   "name": "python",
   "nbconvert_exporter": "python",
   "pygments_lexer": "ipython3",
   "version": "3.11.7"
  }
 },
 "nbformat": 4,
 "nbformat_minor": 5
}

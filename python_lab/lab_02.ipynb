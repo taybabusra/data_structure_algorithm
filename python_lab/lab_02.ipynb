{
 "cells": [
  {
   "cell_type": "code",
   "execution_count": 42,
   "id": "9b5033b7-3d5a-44c1-a0fc-23f56b41520b",
   "metadata": {},
   "outputs": [
    {
     "name": "stdin",
     "output_type": "stream",
     "text": [
      "enter hours of worked 47\n"
     ]
    }
   ],
   "source": [
    "hours = float(input(\"enter hours of worked\"))"
   ]
  },
  {
   "cell_type": "code",
   "execution_count": 43,
   "id": "742e5190-64c1-4ff9-84be-f66a7d9dd1a1",
   "metadata": {},
   "outputs": [
    {
     "name": "stdin",
     "output_type": "stream",
     "text": [
      "enter rate 10\n"
     ]
    }
   ],
   "source": [
    "income = float(input('enter rate'))"
   ]
  },
  {
   "cell_type": "code",
   "execution_count": 26,
   "id": "434e9f04-afb6-40ef-a87d-133ed953bb45",
   "metadata": {},
   "outputs": [],
   "source": [
    "gross_rate = hours*income"
   ]
  },
  {
   "cell_type": "code",
   "execution_count": 27,
   "id": "21a8c3f5-270f-4a32-8661-3a084fef4aa8",
   "metadata": {},
   "outputs": [
    {
     "name": "stdout",
     "output_type": "stream",
     "text": [
      "1800.0\n"
     ]
    }
   ],
   "source": [
    "print(gross_rate)"
   ]
  },
  {
   "cell_type": "code",
   "execution_count": 97,
   "id": "7d4b9e8b-5824-4722-a27d-8b2d98dedba5",
   "metadata": {},
   "outputs": [
    {
     "name": "stdin",
     "output_type": "stream",
     "text": [
      "enter hours of worked 47\n",
      "enter rate 10\n"
     ]
    },
    {
     "name": "stdout",
     "output_type": "stream",
     "text": [
      "505.0\n"
     ]
    }
   ],
   "source": [
    "hours = float(input(\"enter hours of worked\"))\n",
    "income = float(input('enter rate'))\n",
    "if hours>40:\n",
    "    h=hours-40\n",
    "    gross_rate_1= h*income*1.5\n",
    "    normal_rate = 40*income\n",
    "    total_income = gross_rate_1 + normal_rate\n",
    "    print(total_income)\n",
    "else:\n",
    "    total_income = hours*income\n",
    "    print('total_income', total_income)"
   ]
  },
  {
   "cell_type": "markdown",
   "id": "41e7c861-91be-451a-99a7-d1fd22c9a00c",
   "metadata": {},
   "source": [
    "## GRADE"
   ]
  },
  {
   "cell_type": "code",
   "execution_count": 37,
   "id": "810fd131-271b-4427-9594-7ad3c60d513b",
   "metadata": {},
   "outputs": [
    {
     "name": "stdin",
     "output_type": "stream",
     "text": [
      "Enter number: 70\n"
     ]
    }
   ],
   "source": [
    "a = int(input('Enter number:'))"
   ]
  },
  {
   "cell_type": "code",
   "execution_count": 38,
   "id": "e1d9c926-e36b-48c8-8f22-cbe769120ccc",
   "metadata": {},
   "outputs": [
    {
     "name": "stdout",
     "output_type": "stream",
     "text": [
      "B\n"
     ]
    }
   ],
   "source": [
    "if a<25:\n",
    "    print('F')\n",
    "elif a in range(25,45):\n",
    "    print('E')\n",
    "elif a in range(45,50):\n",
    "    print('D')\n",
    "elif a in range(50,60):\n",
    "    print('C')\n",
    "elif a in range(60,80):\n",
    "    print('B')\n",
    "elif a>80:\n",
    "    print('A')"
   ]
  },
  {
   "cell_type": "markdown",
   "id": "08b8ec07-2dac-4822-aa1d-3b536d31a52d",
   "metadata": {},
   "source": [
    " ## ORDER"
   ]
  },
  {
   "cell_type": "code",
   "execution_count": 68,
   "id": "b52f9a57-2e6e-43b2-8401-8df84e0bcef2",
   "metadata": {},
   "outputs": [
    {
     "name": "stdin",
     "output_type": "stream",
     "text": [
      "enter a number: 10\n"
     ]
    }
   ],
   "source": [
    "a = int(input('enter a number:'))"
   ]
  },
  {
   "cell_type": "code",
   "execution_count": 69,
   "id": "f4c3a846-8f08-49c4-b4f4-ad07d3cd099b",
   "metadata": {},
   "outputs": [
    {
     "name": "stdin",
     "output_type": "stream",
     "text": [
      "enter a number: 15\n"
     ]
    }
   ],
   "source": [
    "b = int(input('enter a number:'))"
   ]
  },
  {
   "cell_type": "code",
   "execution_count": 71,
   "id": "2b0f0420-9d60-4fdb-ac20-59d5ca9058ac",
   "metadata": {},
   "outputs": [
    {
     "name": "stdin",
     "output_type": "stream",
     "text": [
      "enter a number: 5\n"
     ]
    }
   ],
   "source": [
    "c = int(input('enter a number:'))"
   ]
  },
  {
   "cell_type": "code",
   "execution_count": 80,
   "id": "e91a31e3-97dd-4202-9535-d195433e648f",
   "metadata": {},
   "outputs": [
    {
     "name": "stdout",
     "output_type": "stream",
     "text": [
      "15 10 5\n"
     ]
    }
   ],
   "source": [
    "if a>b:\n",
    "    b,a = a,b\n",
    "elif b>a:\n",
    "    b,a = a,b\n",
    "elif b>c:\n",
    "    b,c = c,b\n",
    "print(a,b,c)"
   ]
  },
  {
   "cell_type": "code",
   "execution_count": 78,
   "id": "e1caaed7-f561-4b6c-8325-d8b89ac3107f",
   "metadata": {},
   "outputs": [
    {
     "name": "stdout",
     "output_type": "stream",
     "text": [
      "15 10 5\n"
     ]
    }
   ],
   "source": [
    "if a<b:\n",
    "    b,a = a,b\n",
    "elif b<a:\n",
    "     a,b = b,a\n",
    "elif b<c:\n",
    "     c,b= b,c\n",
    "print(a,b,c)"
   ]
  },
  {
   "cell_type": "markdown",
   "id": "1a6560ef-6b67-4eb9-b31b-1b1c2939467b",
   "metadata": {},
   "source": [
    "## Discounbt"
   ]
  },
  {
   "cell_type": "code",
   "execution_count": 53,
   "id": "a741b1b3-4410-41f7-9ea0-55baea106538",
   "metadata": {},
   "outputs": [
    {
     "name": "stdin",
     "output_type": "stream",
     "text": [
      "enter quantity: 102\n"
     ]
    }
   ],
   "source": [
    "a = float(input('enter quantity:'))"
   ]
  },
  {
   "cell_type": "code",
   "execution_count": 54,
   "id": "33253d6e-ad90-4643-b0d0-79b1fc1d1fe3",
   "metadata": {},
   "outputs": [],
   "source": [
    "un_cost = 100\n",
    "total_cost = 100*a"
   ]
  },
  {
   "cell_type": "code",
   "execution_count": 55,
   "id": "6f1c6e63-c3f9-45d3-8207-8c26b23db502",
   "metadata": {},
   "outputs": [
    {
     "name": "stdout",
     "output_type": "stream",
     "text": [
      "9180.0\n"
     ]
    }
   ],
   "source": [
    "if total_cost >1000:\n",
    "    discount = total_cost*0.1\n",
    "    cost = total_cost - discount\n",
    "print(cost)"
   ]
  },
  {
   "cell_type": "markdown",
   "id": "62272e18-b9f3-474a-b654-be3c36538b56",
   "metadata": {},
   "source": [
    "## Grater Number"
   ]
  },
  {
   "cell_type": "code",
   "execution_count": 57,
   "id": "f358a5b0-92fa-41c3-abb8-61fd459e2e8d",
   "metadata": {},
   "outputs": [
    {
     "name": "stdin",
     "output_type": "stream",
     "text": [
      "enter number: 4\n"
     ]
    }
   ],
   "source": [
    "a = int(input('enter number:'))"
   ]
  },
  {
   "cell_type": "code",
   "execution_count": 60,
   "id": "1e1d23de-3f5f-4b03-8147-8b6eb7103f99",
   "metadata": {},
   "outputs": [
    {
     "name": "stdin",
     "output_type": "stream",
     "text": [
      "enter number: 6\n"
     ]
    }
   ],
   "source": [
    "b = int(input('enter number:'))"
   ]
  },
  {
   "cell_type": "code",
   "execution_count": 61,
   "id": "ad05e4d4-8d3e-44d3-a52e-917d07cb2379",
   "metadata": {},
   "outputs": [
    {
     "name": "stdout",
     "output_type": "stream",
     "text": [
      "6\n"
     ]
    }
   ],
   "source": [
    "if a >b:\n",
    "    print(a)\n",
    "elif b>a:\n",
    "    print(b)"
   ]
  },
  {
   "cell_type": "markdown",
   "id": "ba889920-6480-4b72-b29d-e7e0bc42d181",
   "metadata": {},
   "source": [
    "## square or not"
   ]
  },
  {
   "cell_type": "code",
   "execution_count": 63,
   "id": "36a5b0e0-30b9-4fa7-b27b-f60e2968259c",
   "metadata": {},
   "outputs": [
    {
     "name": "stdin",
     "output_type": "stream",
     "text": [
      "enter height: 5\n",
      "enter height: 6\n"
     ]
    }
   ],
   "source": [
    "a = int(input('enter height:'))\n",
    "b = int(input('enter height:'))"
   ]
  },
  {
   "cell_type": "code",
   "execution_count": 66,
   "id": "5d52a1fb-347d-4e71-aa29-2354254670d2",
   "metadata": {},
   "outputs": [
    {
     "name": "stdout",
     "output_type": "stream",
     "text": [
      "rectangel\n"
     ]
    }
   ],
   "source": [
    "if a == b :\n",
    "    print('square')\n",
    "else:\n",
    "    print('rectangel')"
   ]
  },
  {
   "cell_type": "markdown",
   "id": "c51f2ff5-47d1-4f68-8f12-fa04a17efcea",
   "metadata": {},
   "source": [
    "## BONUS"
   ]
  },
  {
   "cell_type": "code",
   "execution_count": 75,
   "id": "a7797981-09c2-4b3b-aefc-f8df2023aa95",
   "metadata": {},
   "outputs": [
    {
     "name": "stdin",
     "output_type": "stream",
     "text": [
      "Enter your salary:  20000\n",
      "Enter your years of service:  5\n"
     ]
    },
    {
     "name": "stdout",
     "output_type": "stream",
     "text": [
      "Your net bonus amount is: 0.00\n"
     ]
    }
   ],
   "source": [
    "# Function to calculate the bonus\n",
    "def calculate_bonus(salary, years_of_service):\n",
    "    if years_of_service > 5:\n",
    "        bonus = salary * 0.05\n",
    "    else:\n",
    "        bonus = 0\n",
    "    return bonus\n",
    "salary = float(input(\"Enter your salary: \"))\n",
    "years_of_service = int(input(\"Enter your years of service: \"))\n",
    "bonus = calculate_bonus(salary, years_of_service)\n",
    "print(f\"Your net bonus amount is: {bonus:.2f}\")"
   ]
  },
  {
   "cell_type": "code",
   "execution_count": null,
   "id": "606883e3-e0e9-472d-9983-580149704356",
   "metadata": {},
   "outputs": [],
   "source": []
  },
  {
   "cell_type": "code",
   "execution_count": null,
   "id": "2e099657-3b33-48cd-9454-c8840a00c8c4",
   "metadata": {},
   "outputs": [],
   "source": []
  },
  {
   "cell_type": "code",
   "execution_count": null,
   "id": "dcaee517-0a03-4ecd-8b4d-b8984ce1880c",
   "metadata": {},
   "outputs": [],
   "source": []
  },
  {
   "cell_type": "code",
   "execution_count": null,
   "id": "941ef329-7da6-467a-a287-699b8784e22b",
   "metadata": {},
   "outputs": [],
   "source": []
  },
  {
   "cell_type": "code",
   "execution_count": 81,
   "id": "2b417f78-3478-4319-b11b-44a065562648",
   "metadata": {},
   "outputs": [
    {
     "name": "stdin",
     "output_type": "stream",
     "text": [
      "Enter the number of classes held:  30\n",
      "Enter the number of classes attended:  15\n"
     ]
    }
   ],
   "source": [
    "held = int(input(\"Enter the number of classes held: \"))\n",
    "attended = int(input(\"Enter the number of classes attended: \"))"
   ]
  },
  {
   "cell_type": "code",
   "execution_count": 92,
   "id": "4eb807fc-d1c3-47a2-b2e5-1fd5d398c116",
   "metadata": {},
   "outputs": [
    {
     "name": "stdin",
     "output_type": "stream",
     "text": [
      "enter medical cause True\n"
     ]
    }
   ],
   "source": [
    "medical =input('enter medical cause')"
   ]
  },
  {
   "cell_type": "code",
   "execution_count": 93,
   "id": "7a09c91d-6e38-4e71-8de8-54cf6679acd9",
   "metadata": {},
   "outputs": [
    {
     "name": "stdout",
     "output_type": "stream",
     "text": [
      "50.0\n",
      "eligible\n"
     ]
    }
   ],
   "source": [
    "percentage = (attended/held)*100\n",
    "print(percentage)\n",
    "if percentage <75 and medical == 'True':\n",
    "    print('eligible')\n",
    "elif percentage <75 and medical == 'False':\n",
    "    print('not_elegible')"
   ]
  },
  {
   "cell_type": "code",
   "execution_count": 94,
   "id": "a8f631c8-5826-4df1-8975-98752701e748",
   "metadata": {},
   "outputs": [
    {
     "name": "stdout",
     "output_type": "stream",
     "text": [
      "50.0\n",
      "not_eligible\n"
     ]
    },
    {
     "name": "stdin",
     "output_type": "stream",
     "text": [
      "mdedical_cause Y\n"
     ]
    },
    {
     "name": "stdout",
     "output_type": "stream",
     "text": [
      "Elegible\n"
     ]
    }
   ],
   "source": [
    "percentage = (attended/held)*100\n",
    "print(percentage)\n",
    "if percentage <75:\n",
    "    print('not_eligible')\n",
    "    c = input('mdedical_cause:')\n",
    "    if c == 'Y':\n",
    "        print('Elegible')\n",
    "elif percentage <75 and medical == 'False':\n",
    "    print('not_elegible')"
   ]
  },
  {
   "cell_type": "code",
   "execution_count": null,
   "id": "74be5fd2-a656-4292-bcc2-30e907af6959",
   "metadata": {},
   "outputs": [],
   "source": []
  }
 ],
 "metadata": {
  "kernelspec": {
   "display_name": "Python 3 (ipykernel)",
   "language": "python",
   "name": "python3"
  },
  "language_info": {
   "codemirror_mode": {
    "name": "ipython",
    "version": 3
   },
   "file_extension": ".py",
   "mimetype": "text/x-python",
   "name": "python",
   "nbconvert_exporter": "python",
   "pygments_lexer": "ipython3",
   "version": "3.11.7"
  }
 },
 "nbformat": 4,
 "nbformat_minor": 5
}
